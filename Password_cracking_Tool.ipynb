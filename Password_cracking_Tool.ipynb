{
  "nbformat": 4,
  "nbformat_minor": 0,
  "metadata": {
    "colab": {
      "provenance": []
    },
    "kernelspec": {
      "name": "python3",
      "display_name": "Python 3"
    },
    "language_info": {
      "name": "python"
    }
  },
  "cells": [
    {
      "cell_type": "markdown",
      "source": [
        "## Register User"
      ],
      "metadata": {
        "id": "llAi6xdhvE77"
      }
    },
    {
      "cell_type": "code",
      "source": [
        "!git clone https://github.com/Mahsarnzh/Pass_Cracker_Tool.git"
      ],
      "metadata": {
        "colab": {
          "base_uri": "https://localhost:8080/"
        },
        "id": "3Er-_v0kp7SN",
        "outputId": "319dac75-0425-437c-fc3d-b268f32f37af"
      },
      "execution_count": 1,
      "outputs": [
        {
          "output_type": "stream",
          "name": "stdout",
          "text": [
            "fatal: destination path 'Pass_Cracker_Tool' already exists and is not an empty directory.\n"
          ]
        }
      ]
    },
    {
      "cell_type": "code",
      "source": [
        "%cd /content/Pass_Cracker_Tool"
      ],
      "metadata": {
        "colab": {
          "base_uri": "https://localhost:8080/"
        },
        "id": "uUHNqwLQqeue",
        "outputId": "6884b70d-5fc6-4aec-c53e-7a57d4aa890e"
      },
      "execution_count": 2,
      "outputs": [
        {
          "output_type": "stream",
          "name": "stdout",
          "text": [
            "/content/Pass_Cracker_Tool\n"
          ]
        }
      ]
    },
    {
      "cell_type": "code",
      "source": [
        "def read_wordlist(file_path):\n",
        "    try:\n",
        "        with open(file_path, 'r') as wordlist_file:\n",
        "            wordlist = [word.strip() for word in wordlist_file.readlines() if len(word.strip()) <= 100]\n",
        "        return wordlist\n",
        "    except FileNotFoundError:\n",
        "        print(f\"Error: Wordlist file '{file_path}' not found.\")\n",
        "        exit()\n",
        "    except Exception as e:\n",
        "        print(\"Error while reading the wordlist file:\", e)\n",
        "        return []\n",
        "\n",
        "wordlist = read_wordlist(\"dictionary.txt\")"
      ],
      "metadata": {
        "id": "S2qgS2yuqqxa"
      },
      "execution_count": 3,
      "outputs": []
    },
    {
      "cell_type": "code",
      "source": [
        "%cd /content/Pass_Cracker_Tool"
      ],
      "metadata": {
        "colab": {
          "base_uri": "https://localhost:8080/"
        },
        "id": "WFvsC3Pbre3U",
        "outputId": "c002d894-79d9-49e2-cbab-1f5ba29b0f52"
      },
      "execution_count": 7,
      "outputs": [
        {
          "output_type": "stream",
          "name": "stdout",
          "text": [
            "/content/Pass_Cracker_Tool\n"
          ]
        }
      ]
    },
    {
      "cell_type": "code",
      "execution_count": null,
      "metadata": {
        "id": "mMme1sMVu-3V"
      },
      "outputs": [],
      "source": [
        "import getpass\n",
        "import hashlib\n",
        "\n",
        "def register_user():\n",
        "    username = input(\"Enter username: \")\n",
        "    password = getpass.getpass(\"Enter password: \")\n",
        "\n",
        "    # Create the MD5 hash of the password\n",
        "    password_hash = hashlib.md5(password.encode()).hexdigest()\n",
        "\n",
        "    # Save username and password hash to a file\n",
        "    with open(\"user_info_MD5.txt\", \"a\") as file:\n",
        "        file.write(f\"{username}:{password_hash}\\n\")\n",
        "\n",
        "    print(\"User registered successfully.\")\n",
        "\n",
        "# Call the register_user function to register a new user\n",
        "register_user()\n"
      ]
    },
    {
      "cell_type": "markdown",
      "source": [
        "## Verify User"
      ],
      "metadata": {
        "id": "TPM0VXX_vLKU"
      }
    },
    {
      "cell_type": "code",
      "source": [
        "import getpass\n",
        "import hashlib\n",
        "\n",
        "def verify_user():\n",
        "    username = input(\"Enter username: \")\n",
        "    password = getpass.getpass(\"Enter password: \")\n",
        "\n",
        "    # Create the MD5 hash of the entered password\n",
        "    password_hash = hashlib.md5(password.encode()).hexdigest()\n",
        "\n",
        "    # Read the password file and check for username and password hash match\n",
        "    with open(\"user_info_MD5.txt\", \"r\") as file:\n",
        "        for line in file:\n",
        "            stored_username, stored_password_hash = line.strip().split(\":\")\n",
        "            if username == stored_username and password_hash == stored_password_hash:\n",
        "                print(\"Login successful!\")\n",
        "                return\n",
        "\n",
        "    print(\"Invalid username or password.\")\n",
        "\n",
        "# Call the verify_user function to verify the user's login credentials\n",
        "verify_user()\n"
      ],
      "metadata": {
        "id": "2KDlFw9GvNcu"
      },
      "execution_count": null,
      "outputs": []
    },
    {
      "cell_type": "markdown",
      "source": [
        "## Password Cracker"
      ],
      "metadata": {
        "id": "xhdBYKcavSgw"
      }
    },
    {
      "cell_type": "code",
      "source": [
        "import hashlib\n",
        "import numpy as np\n",
        "import itertools\n",
        "from itertools import combinations\n",
        "from itertools import permutations\n",
        "from itertools import product\n",
        "\n",
        "\n",
        "def create_combinations(words):\n",
        "    words = [words]\n",
        "    num_arr = list(range(10))\n",
        "    special_char_arr = [\"@\",\"#\",\"$\",\"%\",\"&\", \"\", \"\"]\n",
        "    num_arr.extend([\"\",\"\"])\n",
        "    int_list = list(combinations(num_arr, 2))\n",
        "\n",
        "    char_list = list(combinations(special_char_arr, 2))\n",
        "\n",
        "    words_arr = np.array(words)\n",
        "    int_arr = np.array(int_list).reshape(-1,2)\n",
        "    char_arr = np.array(char_list).reshape(-1,2)\n",
        "\n",
        "    product_ = list(product(int_arr, char_arr))\n",
        "    product_ = np.array(product_).reshape(-1,4)\n",
        "\n",
        "    words_comb = list(product(words_arr, product_))\n",
        "    words_comb_res = [[t[0]] + t[1].tolist() for t in words_comb]\n",
        "\n",
        "    word_comb_perm_ = []\n",
        "    for i in range(len(words_comb_res)):\n",
        "      permutations = list(itertools.permutations(words_comb_res[i]))\n",
        "      word_comb_perm = [''.join(perm) for perm in permutations]\n",
        "      word_comb_perm_.append(word_comb_perm)\n",
        "\n",
        "    word_comb_perm_unique = np.unique(word_comb_perm_)\n",
        "    return word_comb_perm_unique\n",
        "\n",
        "\n",
        "def hash_password(password):\n",
        "    result = hashlib.md5(password.encode())\n",
        "    return result.hexdigest()\n",
        "\n",
        "def check_password_in_file(password_hash):\n",
        "    wordlist = read_wordlist(\"dictionary.txt\")\n",
        "    for word in wordlist:\n",
        "        if hash_password(word) == password_hash:\n",
        "            return word\n",
        "        else:\n",
        "          for word in create_combinations(word):\n",
        "            if hash_password(word) == password_hash:\n",
        "              return word\n",
        "    return None\n",
        "\n",
        "if __name__ == \"__main__\":\n",
        "\n",
        "    with open(\"user_info_MD5.txt\", 'r') as md5_file:\n",
        "        md5_hashes_to_check = md5_file.read().splitlines()\n",
        "        md5_hashes_data = [item.split(\":\") for item in md5_hashes_to_check]\n",
        "\n",
        "    # Reshape the list into a 2x2 matrix (if you have more than two elements, change the shape accordingly)\n",
        "    md5_items = np.array(md5_hashes_data).reshape(-1, 2)\n",
        "\n",
        "    matching_passwords = []\n",
        "    for md5_item in md5_items:\n",
        "        password_hash = md5_item[1]  # Extract the password hash from the matrix\n",
        "        found_password = check_password_in_file(password_hash)\n",
        "        if found_password:\n",
        "            matching_passwords.append(found_password)\n",
        "\n",
        "    if matching_passwords:\n",
        "        print(\"The following passwords were found in the dictionary file:\")\n",
        "        for password in matching_passwords:\n",
        "            print(password)\n",
        "    else:\n",
        "        print(\"No passwords were found in the dictionary file.\")\n",
        "\n"
      ],
      "metadata": {
        "id": "_aYRjjw-vP1L"
      },
      "execution_count": null,
      "outputs": []
    },
    {
      "cell_type": "markdown",
      "source": [
        "## Evaluating Password Strength"
      ],
      "metadata": {
        "id": "4AvpFvq9vk9l"
      }
    },
    {
      "cell_type": "code",
      "source": [
        "import numpy as np\n",
        "import itertools\n",
        "from itertools import combinations\n",
        "from itertools import permutations\n",
        "from itertools import product\n",
        "\n",
        "\n",
        "wordlist = read_wordlist(\"dictionary.txt\")\n",
        "\n",
        "\n",
        "def create_combinations(words):\n",
        "    words = [words]\n",
        "    num_arr = list(range(10))\n",
        "    special_char_arr = [\"@\",\"#\",\"$\",\"%\",\"&\", \"\", \"\"]\n",
        "    num_arr.extend([\"\",\"\"])\n",
        "    int_list = list(combinations(num_arr, 2))\n",
        "\n",
        "    char_list = list(combinations(special_char_arr, 2))\n",
        "\n",
        "    words_arr = np.array(words)\n",
        "    int_arr = np.array(int_list).reshape(-1,2)\n",
        "    char_arr = np.array(char_list).reshape(-1,2)\n",
        "\n",
        "    product_ = list(product(int_arr, char_arr))\n",
        "    product_ = np.array(product_).reshape(-1,4)\n",
        "\n",
        "    words_comb = list(product(words_arr, product_))\n",
        "    words_comb_res = [[t[0]] + t[1].tolist() for t in words_comb]\n",
        "\n",
        "    word_comb_perm_ = []\n",
        "    for i in range(len(words_comb_res)):\n",
        "      permutations = list(itertools.permutations(words_comb_res[i]))\n",
        "      word_comb_perm = [''.join(perm) for perm in permutations]\n",
        "      word_comb_perm_.append(word_comb_perm)\n",
        "\n",
        "    word_comb_perm_unique = np.unique(word_comb_perm_)\n",
        "    return word_comb_perm_unique\n",
        "\n",
        "\n",
        "\n",
        "def is_weak_password(password, wordlist):\n",
        "  for word in wordlist:\n",
        "    if word == password:\n",
        "      return True\n",
        "  return False\n",
        "\n",
        "\n",
        "def is_moderate_password(password, wordlist):\n",
        "  for word in wordlist:\n",
        "    for word in create_combinations(word):\n",
        "      # print(word)\n",
        "      if word == password:\n",
        "        return True\n",
        "  return False\n",
        "\n",
        "\n",
        "def evaluate_password_strength(password, wordlist):\n",
        "    \"\"\"Evaluate password strength based on dictionary attack vulnerability.\"\"\"\n",
        "    if is_weak_password(password, wordlist):\n",
        "        return \"Weak password\"\n",
        "    elif is_moderate_password(password, wordlist):\n",
        "        return \"Moderate password\"\n",
        "    else:\n",
        "        return \"Strong password\"\n",
        "\n",
        "\n",
        "if __name__ == \"__main__\":\n",
        "    # Load dictionary words from a file (replace 'dictionary.txt' with the actual file path)\n",
        "    dictionary_file_path = 'dictionary.txt'\n",
        "    dictionary_words = read_wordlist(dictionary_file_path)\n",
        "\n",
        "    # Take password input from the user\n",
        "    password = input(\"Enter your password: \")\n",
        "\n",
        "    # Evaluate the password strength\n",
        "    password_strength = evaluate_password_strength(password, dictionary_words)\n",
        "    print(\"Password strength:\", password_strength)\n"
      ],
      "metadata": {
        "colab": {
          "base_uri": "https://localhost:8080/"
        },
        "id": "6jtON0yXvpdd",
        "outputId": "563680d7-aa04-4ff9-eb62-d354b0efbdfc"
      },
      "execution_count": 20,
      "outputs": [
        {
          "output_type": "stream",
          "name": "stdout",
          "text": [
            "Enter your password: authentic#\n",
            "Password strength: Moderate password\n"
          ]
        }
      ]
    }
  ]
}